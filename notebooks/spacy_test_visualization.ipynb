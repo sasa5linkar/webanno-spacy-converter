{
 "cells": [
  {
   "cell_type": "markdown",
   "id": "02ed8ed4",
   "metadata": {},
   "source": [
    "# Import Required Libraries\n",
    "This section imports the necessary libraries for working with SpaCy, visualization, and the test data conversion utilities."
   ]
  },
  {
   "cell_type": "code",
   "execution_count": 7,
   "id": "8ecb9d82",
   "metadata": {},
   "outputs": [],
   "source": [
    "import spacy\n",
    "from spacy.tokens import DocBin\n",
    "from spacy import displacy\n",
    "import pandas as pd\n",
    "import os\n",
    "from pathlib import Path\n",
    "\n",
    "# If your converter is in the module, import it as well\n",
    "from webanno_spacy_converter.converters.webanno_to_spacy import AnnotationSentencesToDocBinConverterV2"
   ]
  },
  {
   "cell_type": "markdown",
   "id": "1e7b916f",
   "metadata": {},
   "source": [
    "# Load Test Data\n",
    "Load a .spacy file generated from your test data. This file contains serialized SpaCy Doc objects."
   ]
  },
  {
   "cell_type": "code",
   "execution_count": 8,
   "id": "a215dbe5",
   "metadata": {},
   "outputs": [
    {
     "name": "stderr",
     "output_type": "stream",
     "text": [
      "c:\\Users\\sasa5\\anaconda3\\envs\\spacy\\Lib\\site-packages\\spacy\\util.py:910: UserWarning: [W095] Model 'sr_pipeline' (0.0.0) was trained with spaCy v3.5.2 and may not be 100% compatible with the current version (3.8.5). If you see errors or degraded performance, download a newer compatible model or retrain your custom model with the current spaCy version. For more details and available updates, run: python -m spacy validate\n",
      "  warnings.warn(warn_msg)\n"
     ]
    },
    {
     "name": "stdout",
     "output_type": "stream",
     "text": [
      "Loaded 5 SpaCy Doc objects from ..\\test_data\\examplev2.spacy\n"
     ]
    }
   ],
   "source": [
    "# Path to the test .spacy file (adjust as needed)\n",
    "docbin_path = Path(\"..\") / \"test_data\" / \"examplev2.spacy\"\n",
    "\n",
    "# Load the DocBin\n",
    "nlp = spacy.load(Path(\"..\") /\"my_nlp_el_cnn1\")  \n",
    "doc_bin = DocBin().from_disk(str(docbin_path))\n",
    "docs = list(doc_bin.get_docs(nlp.vocab))\n",
    "print(f\"Loaded {len(docs)} SpaCy Doc objects from {docbin_path}\")"
   ]
  },
  {
   "cell_type": "markdown",
   "id": "5f9972de",
   "metadata": {},
   "source": [
    "# Convert Test Data to SpaCy Docs\n",
    "If you have annotated sentences and want to convert them to SpaCy Docs, use the converter here. (This is optional if you already have a .spacy file.)"
   ]
  },
  {
   "cell_type": "code",
   "execution_count": 9,
   "id": "d84aea44",
   "metadata": {},
   "outputs": [],
   "source": [
    "# Example (uncomment and adjust if you want to run conversion):\n",
    "# from webanno_spacy_converter.parsers.tsv_parser_v3 import WebAnnoNELParser\n",
    "# parser = WebAnnoNELParser(\"../test_data/output.tsv\")\n",
    "# parser.parse()\n",
    "# converter = AnnotationSentencesToDocBinConverterV2(nlp)\n",
    "# doc_bin = converter.convert(parser.sentences)\n",
    "# docs = list(doc_bin.get_docs(nlp.vocab))"
   ]
  },
  {
   "cell_type": "markdown",
   "id": "f6caa7be",
   "metadata": {},
   "source": [
    "# Visualize SpaCy Docs\n",
    "Use SpaCy's displacy to visualize named entities and dependency parses for the loaded documents."
   ]
  },
  {
   "cell_type": "code",
   "execution_count": 10,
   "id": "ba842610",
   "metadata": {},
   "outputs": [
    {
     "data": {
      "text/html": [
       "<span class=\"tex2jax_ignore\"><div class=\"entities\" style=\"line-height: 2.5; direction: ltr\">\n",
       "<mark class=\"entity\" style=\"background: #ff9561; padding: 0.45em 0.6em; margin: 0 0.25em; line-height: 1; border-radius: 0.35em;\">\n",
       "    Alžir\n",
       "    <span style=\"font-size: 0.8em; font-weight: bold; line-height: 1; border-radius: 0.35em; vertical-align: middle; margin-left: 0.5rem\">LOC\n",
       " <a style=\"text-decoration: none; color: inherit; font-weight: normal\" href=\"#\">Q262</a>\n",
       "</span>\n",
       "</mark>\n",
       ", kao druga po veličini zemlja u \n",
       "<mark class=\"entity\" style=\"background: #ff9561; padding: 0.45em 0.6em; margin: 0 0.25em; line-height: 1; border-radius: 0.35em;\">\n",
       "    Africi\n",
       "    <span style=\"font-size: 0.8em; font-weight: bold; line-height: 1; border-radius: 0.35em; vertical-align: middle; margin-left: 0.5rem\">LOC\n",
       " <a style=\"text-decoration: none; color: inherit; font-weight: normal\" href=\"#\">Q15</a>\n",
       "</span>\n",
       "</mark>\n",
       ", ima bogatu istoriju koja se proteže od drevnih vremena, kada su se njome kretali nomadi, sve do modernog doba, kada je postao važan igrač u globalnoj trgovini naftom. \n",
       "<mark class=\"entity\" style=\"background: #ff9561; padding: 0.45em 0.6em; margin: 0 0.25em; line-height: 1; border-radius: 0.35em;\">\n",
       "    Alžir\n",
       "    <span style=\"font-size: 0.8em; font-weight: bold; line-height: 1; border-radius: 0.35em; vertical-align: middle; margin-left: 0.5rem\">LOC\n",
       " <a style=\"text-decoration: none; color: inherit; font-weight: normal\" href=\"#\">Q3561</a>\n",
       "</span>\n",
       "</mark>\n",
       ", koji se prostire duž obale \n",
       "<mark class=\"entity\" style=\"background: #ff9561; padding: 0.45em 0.6em; margin: 0 0.25em; line-height: 1; border-radius: 0.35em;\">\n",
       "    Sredozemnog mora\n",
       "    <span style=\"font-size: 0.8em; font-weight: bold; line-height: 1; border-radius: 0.35em; vertical-align: middle; margin-left: 0.5rem\">LOC\n",
       " <a style=\"text-decoration: none; color: inherit; font-weight: normal\" href=\"#\">Q4918</a>\n",
       "</span>\n",
       "</mark>\n",
       ", važi za jedan od najstarijih gradova u \n",
       "<mark class=\"entity\" style=\"background: #ff9561; padding: 0.45em 0.6em; margin: 0 0.25em; line-height: 1; border-radius: 0.35em;\">\n",
       "    Severnoj Africi\n",
       "    <span style=\"font-size: 0.8em; font-weight: bold; line-height: 1; border-radius: 0.35em; vertical-align: middle; margin-left: 0.5rem\">LOC\n",
       " <a style=\"text-decoration: none; color: inherit; font-weight: normal\" href=\"#\">Q27381</a>\n",
       "</span>\n",
       "</mark>\n",
       ", poznat po svojim belim zgradama i živopisnim bazarima. Ekonomija \n",
       "<mark class=\"entity\" style=\"background: #ff9561; padding: 0.45em 0.6em; margin: 0 0.25em; line-height: 1; border-radius: 0.35em;\">\n",
       "    Alžira\n",
       "    <span style=\"font-size: 0.8em; font-weight: bold; line-height: 1; border-radius: 0.35em; vertical-align: middle; margin-left: 0.5rem\">LOC\n",
       " <a style=\"text-decoration: none; color: inherit; font-weight: normal\" href=\"#\">Q262</a>\n",
       "</span>\n",
       "</mark>\n",
       " se oslanja na bogate rezerve nafte i gasa, što čini ovu severnoafričku zemlju jednim od ključnih izvoznika energije na svetskom tržištu. Stari delovi \n",
       "<mark class=\"entity\" style=\"background: #ff9561; padding: 0.45em 0.6em; margin: 0 0.25em; line-height: 1; border-radius: 0.35em;\">\n",
       "    Alžira\n",
       "    <span style=\"font-size: 0.8em; font-weight: bold; line-height: 1; border-radius: 0.35em; vertical-align: middle; margin-left: 0.5rem\">LOC\n",
       " <a style=\"text-decoration: none; color: inherit; font-weight: normal\" href=\"#\">Q3561</a>\n",
       "</span>\n",
       "</mark>\n",
       ", sa uskim ulicama i tradicionalnim kućama, pružaju uvid u bogatu istoriju i kulturni život koji je oblikovao ovaj glavni grad vekovima. Međunarodni stručnjaci pružaju pomoć \n",
       "<mark class=\"entity\" style=\"background: #ff9561; padding: 0.45em 0.6em; margin: 0 0.25em; line-height: 1; border-radius: 0.35em;\">\n",
       "    Alžiru\n",
       "    <span style=\"font-size: 0.8em; font-weight: bold; line-height: 1; border-radius: 0.35em; vertical-align: middle; margin-left: 0.5rem\">LOC\n",
       " <a style=\"text-decoration: none; color: inherit; font-weight: normal\" href=\"#\">Q262</a>\n",
       "</span>\n",
       "</mark>\n",
       " kako bi unapredili svoje obrazovne i zdravstvene sisteme, osiguravajući bolji standard života za stanovništvo cele zemlje. Povodom kulturnog festivala, \n",
       "<mark class=\"entity\" style=\"background: #ddd; padding: 0.45em 0.6em; margin: 0 0.25em; line-height: 1; border-radius: 0.35em;\">\n",
       "    ambasadori\n",
       "    <span style=\"font-size: 0.8em; font-weight: bold; line-height: 1; border-radius: 0.35em; vertical-align: middle; margin-left: 0.5rem\">ROLE\n",
       " <a style=\"text-decoration: none; color: inherit; font-weight: normal\" href=\"#\">NIL</a>\n",
       "</span>\n",
       "</mark>\n",
       " iz različitih zemalja došli su u \n",
       "<mark class=\"entity\" style=\"background: #ff9561; padding: 0.45em 0.6em; margin: 0 0.25em; line-height: 1; border-radius: 0.35em;\">\n",
       "    Alžir\n",
       "    <span style=\"font-size: 0.8em; font-weight: bold; line-height: 1; border-radius: 0.35em; vertical-align: middle; margin-left: 0.5rem\">LOC\n",
       " <a style=\"text-decoration: none; color: inherit; font-weight: normal\" href=\"#\">Q3561</a>\n",
       "</span>\n",
       "</mark>\n",
       " kako bi prisustvovali događajima koji prikazuju bogatu umetničku baštinu glavnog grada. Kada je odlučio da se preseli u \n",
       "<mark class=\"entity\" style=\"background: #ff9561; padding: 0.45em 0.6em; margin: 0 0.25em; line-height: 1; border-radius: 0.35em;\">\n",
       "    Alžir\n",
       "    <span style=\"font-size: 0.8em; font-weight: bold; line-height: 1; border-radius: 0.35em; vertical-align: middle; margin-left: 0.5rem\">LOC\n",
       " <a style=\"text-decoration: none; color: inherit; font-weight: normal\" href=\"#\">Q262</a>\n",
       "</span>\n",
       "</mark>\n",
       ", bio je impresioniran raznolikošću pejzaža, od pustinja na jugu do bujnih šuma u severnim regionima ove velike \n",
       "<mark class=\"entity\" style=\"background: #ddd; padding: 0.45em 0.6em; margin: 0 0.25em; line-height: 1; border-radius: 0.35em;\">\n",
       "    afričke\n",
       "    <span style=\"font-size: 0.8em; font-weight: bold; line-height: 1; border-radius: 0.35em; vertical-align: middle; margin-left: 0.5rem\">DEMO\n",
       " <a style=\"text-decoration: none; color: inherit; font-weight: normal\" href=\"#\">NIL</a>\n",
       "</span>\n",
       "</mark>\n",
       " države. Posetili smo \n",
       "<mark class=\"entity\" style=\"background: #ff9561; padding: 0.45em 0.6em; margin: 0 0.25em; line-height: 1; border-radius: 0.35em;\">\n",
       "    Alžir\n",
       "    <span style=\"font-size: 0.8em; font-weight: bold; line-height: 1; border-radius: 0.35em; vertical-align: middle; margin-left: 0.5rem\">LOC\n",
       " <a style=\"text-decoration: none; color: inherit; font-weight: normal\" href=\"#\">Q3561</a>\n",
       "</span>\n",
       "</mark>\n",
       " prošlog leta i proveli sate istražujući drevne spomenike i muzeje koji pričaju priču o dugoj istoriji ovog glavnog grada. Putujući kroz \n",
       "<mark class=\"entity\" style=\"background: #ff9561; padding: 0.45em 0.6em; margin: 0 0.25em; line-height: 1; border-radius: 0.35em;\">\n",
       "    Alžir\n",
       "    <span style=\"font-size: 0.8em; font-weight: bold; line-height: 1; border-radius: 0.35em; vertical-align: middle; margin-left: 0.5rem\">LOC\n",
       " <a style=\"text-decoration: none; color: inherit; font-weight: normal\" href=\"#\">Q262</a>\n",
       "</span>\n",
       "</mark>\n",
       ", \n",
       "<mark class=\"entity\" style=\"background: #ddd; padding: 0.45em 0.6em; margin: 0 0.25em; line-height: 1; border-radius: 0.35em;\">\n",
       "    istraživači\n",
       "    <span style=\"font-size: 0.8em; font-weight: bold; line-height: 1; border-radius: 0.35em; vertical-align: middle; margin-left: 0.5rem\">ROLE\n",
       " <a style=\"text-decoration: none; color: inherit; font-weight: normal\" href=\"#\">NIL</a>\n",
       "</span>\n",
       "</mark>\n",
       " su otkrili neverovatnu raznolikost etničkih grupa i tradicija koje oblikuju ovu severnoafričku državu. Šetajući \n",
       "<mark class=\"entity\" style=\"background: #ff9561; padding: 0.45em 0.6em; margin: 0 0.25em; line-height: 1; border-radius: 0.35em;\">\n",
       "    Alžirom\n",
       "    <span style=\"font-size: 0.8em; font-weight: bold; line-height: 1; border-radius: 0.35em; vertical-align: middle; margin-left: 0.5rem\">LOC\n",
       " <a style=\"text-decoration: none; color: inherit; font-weight: normal\" href=\"#\">Q3561</a>\n",
       "</span>\n",
       "</mark>\n",
       ", divili smo se njegovim širokim bulevarima i starim palatama koje krase ovaj istorijski grad.</div></span>"
      ],
      "text/plain": [
       "<IPython.core.display.HTML object>"
      ]
     },
     "metadata": {},
     "output_type": "display_data"
    }
   ],
   "source": [
    "# Visualize named entities in the first document (if any)\n",
    "if docs and docs[0].ents:\n",
    "    displacy.render(docs[0], style=\"ent\", jupyter=True)\n",
    "else:\n",
    "    print(\"No named entities found in the first document.\")"
   ]
  },
  {
   "cell_type": "markdown",
   "id": "ff5cfb00",
   "metadata": {},
   "source": [
    "# Inspect Named Entities\n",
    "Programmatically inspect the named entities, their labels, and any linked knowledge base IDs in the SpaCy Docs."
   ]
  },
  {
   "cell_type": "code",
   "execution_count": 11,
   "id": "f93b7b67",
   "metadata": {},
   "outputs": [
    {
     "data": {
      "application/vnd.microsoft.datawrangler.viewer.v0+json": {
       "columns": [
        {
         "name": "index",
         "rawType": "int64",
         "type": "integer"
        },
        {
         "name": "Text",
         "rawType": "object",
         "type": "string"
        },
        {
         "name": "Label",
         "rawType": "object",
         "type": "string"
        },
        {
         "name": "KB_ID",
         "rawType": "object",
         "type": "string"
        }
       ],
       "ref": "cd615024-6197-4bc0-aabc-2195337d6ac9",
       "rows": [
        [
         "0",
         "Alžir",
         "LOC",
         "Q262"
        ],
        [
         "1",
         "Africi",
         "LOC",
         "Q15"
        ],
        [
         "2",
         "Alžir",
         "LOC",
         "Q3561"
        ],
        [
         "3",
         "Sredozemnog mora",
         "LOC",
         "Q4918"
        ],
        [
         "4",
         "Severnoj Africi",
         "LOC",
         "Q27381"
        ],
        [
         "5",
         "Alžira",
         "LOC",
         "Q262"
        ],
        [
         "6",
         "Alžira",
         "LOC",
         "Q3561"
        ],
        [
         "7",
         "Alžiru",
         "LOC",
         "Q262"
        ],
        [
         "8",
         "ambasadori",
         "ROLE",
         "NIL"
        ],
        [
         "9",
         "Alžir",
         "LOC",
         "Q3561"
        ],
        [
         "10",
         "Alžir",
         "LOC",
         "Q262"
        ],
        [
         "11",
         "afričke",
         "DEMO",
         "NIL"
        ],
        [
         "12",
         "Alžir",
         "LOC",
         "Q3561"
        ],
        [
         "13",
         "Alžir",
         "LOC",
         "Q262"
        ],
        [
         "14",
         "istraživači",
         "ROLE",
         "NIL"
        ],
        [
         "15",
         "Alžirom",
         "LOC",
         "Q3561"
        ]
       ],
       "shape": {
        "columns": 3,
        "rows": 16
       }
      },
      "text/html": [
       "<div>\n",
       "<style scoped>\n",
       "    .dataframe tbody tr th:only-of-type {\n",
       "        vertical-align: middle;\n",
       "    }\n",
       "\n",
       "    .dataframe tbody tr th {\n",
       "        vertical-align: top;\n",
       "    }\n",
       "\n",
       "    .dataframe thead th {\n",
       "        text-align: right;\n",
       "    }\n",
       "</style>\n",
       "<table border=\"1\" class=\"dataframe\">\n",
       "  <thead>\n",
       "    <tr style=\"text-align: right;\">\n",
       "      <th></th>\n",
       "      <th>Text</th>\n",
       "      <th>Label</th>\n",
       "      <th>KB_ID</th>\n",
       "    </tr>\n",
       "  </thead>\n",
       "  <tbody>\n",
       "    <tr>\n",
       "      <th>0</th>\n",
       "      <td>Alžir</td>\n",
       "      <td>LOC</td>\n",
       "      <td>Q262</td>\n",
       "    </tr>\n",
       "    <tr>\n",
       "      <th>1</th>\n",
       "      <td>Africi</td>\n",
       "      <td>LOC</td>\n",
       "      <td>Q15</td>\n",
       "    </tr>\n",
       "    <tr>\n",
       "      <th>2</th>\n",
       "      <td>Alžir</td>\n",
       "      <td>LOC</td>\n",
       "      <td>Q3561</td>\n",
       "    </tr>\n",
       "    <tr>\n",
       "      <th>3</th>\n",
       "      <td>Sredozemnog mora</td>\n",
       "      <td>LOC</td>\n",
       "      <td>Q4918</td>\n",
       "    </tr>\n",
       "    <tr>\n",
       "      <th>4</th>\n",
       "      <td>Severnoj Africi</td>\n",
       "      <td>LOC</td>\n",
       "      <td>Q27381</td>\n",
       "    </tr>\n",
       "    <tr>\n",
       "      <th>5</th>\n",
       "      <td>Alžira</td>\n",
       "      <td>LOC</td>\n",
       "      <td>Q262</td>\n",
       "    </tr>\n",
       "    <tr>\n",
       "      <th>6</th>\n",
       "      <td>Alžira</td>\n",
       "      <td>LOC</td>\n",
       "      <td>Q3561</td>\n",
       "    </tr>\n",
       "    <tr>\n",
       "      <th>7</th>\n",
       "      <td>Alžiru</td>\n",
       "      <td>LOC</td>\n",
       "      <td>Q262</td>\n",
       "    </tr>\n",
       "    <tr>\n",
       "      <th>8</th>\n",
       "      <td>ambasadori</td>\n",
       "      <td>ROLE</td>\n",
       "      <td>NIL</td>\n",
       "    </tr>\n",
       "    <tr>\n",
       "      <th>9</th>\n",
       "      <td>Alžir</td>\n",
       "      <td>LOC</td>\n",
       "      <td>Q3561</td>\n",
       "    </tr>\n",
       "    <tr>\n",
       "      <th>10</th>\n",
       "      <td>Alžir</td>\n",
       "      <td>LOC</td>\n",
       "      <td>Q262</td>\n",
       "    </tr>\n",
       "    <tr>\n",
       "      <th>11</th>\n",
       "      <td>afričke</td>\n",
       "      <td>DEMO</td>\n",
       "      <td>NIL</td>\n",
       "    </tr>\n",
       "    <tr>\n",
       "      <th>12</th>\n",
       "      <td>Alžir</td>\n",
       "      <td>LOC</td>\n",
       "      <td>Q3561</td>\n",
       "    </tr>\n",
       "    <tr>\n",
       "      <th>13</th>\n",
       "      <td>Alžir</td>\n",
       "      <td>LOC</td>\n",
       "      <td>Q262</td>\n",
       "    </tr>\n",
       "    <tr>\n",
       "      <th>14</th>\n",
       "      <td>istraživači</td>\n",
       "      <td>ROLE</td>\n",
       "      <td>NIL</td>\n",
       "    </tr>\n",
       "    <tr>\n",
       "      <th>15</th>\n",
       "      <td>Alžirom</td>\n",
       "      <td>LOC</td>\n",
       "      <td>Q3561</td>\n",
       "    </tr>\n",
       "  </tbody>\n",
       "</table>\n",
       "</div>"
      ],
      "text/plain": [
       "                Text Label   KB_ID\n",
       "0              Alžir   LOC    Q262\n",
       "1             Africi   LOC     Q15\n",
       "2              Alžir   LOC   Q3561\n",
       "3   Sredozemnog mora   LOC   Q4918\n",
       "4    Severnoj Africi   LOC  Q27381\n",
       "5             Alžira   LOC    Q262\n",
       "6             Alžira   LOC   Q3561\n",
       "7             Alžiru   LOC    Q262\n",
       "8         ambasadori  ROLE     NIL\n",
       "9              Alžir   LOC   Q3561\n",
       "10             Alžir   LOC    Q262\n",
       "11           afričke  DEMO     NIL\n",
       "12             Alžir   LOC   Q3561\n",
       "13             Alžir   LOC    Q262\n",
       "14       istraživači  ROLE     NIL\n",
       "15           Alžirom   LOC   Q3561"
      ]
     },
     "metadata": {},
     "output_type": "display_data"
    }
   ],
   "source": [
    "# Collect entity details from the first document\n",
    "if docs:\n",
    "    ents_data = [\n",
    "        {\n",
    "            \"Text\": ent.text,\n",
    "            \"Label\": ent.label_,\n",
    "            \"KB_ID\": getattr(ent, \"kb_id_\", None)\n",
    "        }\n",
    "        for ent in docs[0].ents\n",
    "    ]\n",
    "    if ents_data:\n",
    "        df = pd.DataFrame(ents_data)\n",
    "        display(df)\n",
    "    else:\n",
    "        print(\"No entities found in the first document.\")\n",
    "else:\n",
    "    print(\"No documents loaded.\")"
   ]
  },
  {
   "cell_type": "code",
   "execution_count": 12,
   "id": "7043b1bd",
   "metadata": {},
   "outputs": [
    {
     "name": "stdout",
     "output_type": "stream",
     "text": [
      "Text: Alžir, kao druga po veličini zemlja u Africi, ima bogatu istoriju koja se proteže od drevnih vremena, kada su se njome kretali nomadi, sve do modernog doba, kada je postao važan igrač u globalnoj trgovini naftom. Alžir, koji se prostire duž obale Sredozemnog mora, važi za jedan od najstarijih gradova u Severnoj Africi, poznat po svojim belim zgradama i živopisnim bazarima. Ekonomija Alžira se oslanja na bogate rezerve nafte i gasa, što čini ovu severnoafričku zemlju jednim od ključnih izvoznika energije na svetskom tržištu. Stari delovi Alžira, sa uskim ulicama i tradicionalnim kućama, pružaju uvid u bogatu istoriju i kulturni život koji je oblikovao ovaj glavni grad vekovima. Međunarodni stručnjaci pružaju pomoć Alžiru kako bi unapredili svoje obrazovne i zdravstvene sisteme, osiguravajući bolji standard života za stanovništvo cele zemlje. Povodom kulturnog festivala, ambasadori iz različitih zemalja došli su u Alžir kako bi prisustvovali događajima koji prikazuju bogatu umetničku baštinu glavnog grada. Kada je odlučio da se preseli u Alžir, bio je impresioniran raznolikošću pejzaža, od pustinja na jugu do bujnih šuma u severnim regionima ove velike afričke države. Posetili smo Alžir prošlog leta i proveli sate istražujući drevne spomenike i muzeje koji pričaju priču o dugoj istoriji ovog glavnog grada. Putujući kroz Alžir, istraživači su otkrili neverovatnu raznolikost etničkih grupa i tradicija koje oblikuju ovu severnoafričku državu. Šetajući Alžirom, divili smo se njegovim širokim bulevarima i starim palatama koje krase ovaj istorijski grad.\n",
      "Tokens: ['Alžir', ',', 'kao', 'druga', 'po', 'veličini', 'zemlja', 'u', 'Africi', ',', 'ima', 'bogatu', 'istoriju', 'koja', 'se', 'proteže', 'od', 'drevnih', 'vremena', ',', 'kada', 'su', 'se', 'njome', 'kretali', 'nomadi', ',', 'sve', 'do', 'modernog', 'doba', ',', 'kada', 'je', 'postao', 'važan', 'igrač', 'u', 'globalnoj', 'trgovini', 'naftom', '.', 'Alžir', ',', 'koji', 'se', 'prostire', 'duž', 'obale', 'Sredozemnog', 'mora', ',', 'važi', 'za', 'jedan', 'od', 'najstarijih', 'gradova', 'u', 'Severnoj', 'Africi', ',', 'poznat', 'po', 'svojim', 'belim', 'zgradama', 'i', 'živopisnim', 'bazarima', '.', 'Ekonomija', 'Alžira', 'se', 'oslanja', 'na', 'bogate', 'rezerve', 'nafte', 'i', 'gasa', ',', 'što', 'čini', 'ovu', 'severnoafričku', 'zemlju', 'jednim', 'od', 'ključnih', 'izvoznika', 'energije', 'na', 'svetskom', 'tržištu', '.', 'Stari', 'delovi', 'Alžira', ',', 'sa', 'uskim', 'ulicama', 'i', 'tradicionalnim', 'kućama', ',', 'pružaju', 'uvid', 'u', 'bogatu', 'istoriju', 'i', 'kulturni', 'život', 'koji', 'je', 'oblikovao', 'ovaj', 'glavni', 'grad', 'vekovima', '.', 'Međunarodni', 'stručnjaci', 'pružaju', 'pomoć', 'Alžiru', 'kako', 'bi', 'unapredili', 'svoje', 'obrazovne', 'i', 'zdravstvene', 'sisteme', ',', 'osiguravajući', 'bolji', 'standard', 'života', 'za', 'stanovništvo', 'cele', 'zemlje', '.', 'Povodom', 'kulturnog', 'festivala', ',', 'ambasadori', 'iz', 'različitih', 'zemalja', 'došli', 'su', 'u', 'Alžir', 'kako', 'bi', 'prisustvovali', 'događajima', 'koji', 'prikazuju', 'bogatu', 'umetničku', 'baštinu', 'glavnog', 'grada', '.', 'Kada', 'je', 'odlučio', 'da', 'se', 'preseli', 'u', 'Alžir', ',', 'bio', 'je', 'impresioniran', 'raznolikošću', 'pejzaža', ',', 'od', 'pustinja', 'na', 'jugu', 'do', 'bujnih', 'šuma', 'u', 'severnim', 'regionima', 'ove', 'velike', 'afričke', 'države', '.', 'Posetili', 'smo', 'Alžir', 'prošlog', 'leta', 'i', 'proveli', 'sate', 'istražujući', 'drevne', 'spomenike', 'i', 'muzeje', 'koji', 'pričaju', 'priču', 'o', 'dugoj', 'istoriji', 'ovog', 'glavnog', 'grada', '.', 'Putujući', 'kroz', 'Alžir', ',', 'istraživači', 'su', 'otkrili', 'neverovatnu', 'raznolikost', 'etničkih', 'grupa', 'i', 'tradicija', 'koje', 'oblikuju', 'ovu', 'severnoafričku', 'državu', '.', 'Šetajući', 'Alžirom', ',', 'divili', 'smo', 'se', 'njegovim', 'širokim', 'bulevarima', 'i', 'starim', 'palatama', 'koje', 'krase', 'ovaj', 'istorijski', 'grad', '.']\n",
      "Lemmas: ['_', '_', '_', '_', '_', '_', '_', '_', '_', '_', '_', '_', '_', '_', '_', '_', '_', '_', '_', '_', '_', '_', '_', '_', '_', '_', '_', '_', '_', '_', '_', '_', '_', '_', '_', '_', '_', '_', '_', '_', '_', '_', '_', '_', '_', '_', '_', '_', '_', '_', '_', '_', '_', '_', '_', '_', '_', '_', '_', '_', '_', '_', '_', '_', '_', '_', '_', '_', '_', '_', '_', '_', '_', '_', '_', '_', '_', '_', '_', '_', '_', '_', '_', '_', '_', '_', '_', '_', '_', '_', '_', '_', '_', '_', '_', '_', '_', '_', '_', '_', '_', '_', '_', '_', '_', '_', '_', '_', '_', '_', '_', '_', '_', '_', '_', '_', '_', '_', '_', '_', '_', '_', '_', '_', '_', '_', '_', '_', '_', '_', '_', '_', '_', '_', '_', '_', '_', '_', '_', '_', '_', '_', '_', '_', '_', '_', '_', '_', '_', '_', '_', '_', '_', '_', '_', '_', '_', '_', '_', '_', '_', '_', '_', '_', '_', '_', '_', '_', '_', '_', '_', '_', '_', '_', '_', '_', '_', '_', '_', '_', '_', '_', '_', '_', '_', '_', '_', '_', '_', '_', '_', '_', '_', '_', '_', '_', '_', '_', '_', '_', '_', '_', '_', '_', '_', '_', '_', '_', '_', '_', '_', '_', '_', '_', '_', '_', '_', '_', '_', '_', '_', '_', '_', '_', '_', '_', '_', '_', '_', '_', '_', '_', '_', '_', '_', '_', '_', '_', '_', '_', '_', '_', '_', '_', '_', '_', '_', '_', '_', '_', '_', '_', '_', '_', '_', '_', '_', '_', '_', '_']\n",
      "POS Tags: ['', '', '', '', '', '', '', '', '', '', '', '', '', '', '', '', '', '', '', '', '', '', '', '', '', '', '', '', '', '', '', '', '', '', '', '', '', '', '', '', '', '', '', '', '', '', '', '', '', '', '', '', '', '', '', '', '', '', '', '', '', '', '', '', '', '', '', '', '', '', '', '', '', '', '', '', '', '', '', '', '', '', '', '', '', '', '', '', '', '', '', '', '', '', '', '', '', '', '', '', '', '', '', '', '', '', '', '', '', '', '', '', '', '', '', '', '', '', '', '', '', '', '', '', '', '', '', '', '', '', '', '', '', '', '', '', '', '', '', '', '', '', '', '', '', '', '', '', '', '', '', '', '', '', '', '', '', '', '', '', '', '', '', '', '', '', '', '', '', '', '', '', '', '', '', '', '', '', '', '', '', '', '', '', '', '', '', '', '', '', '', '', '', '', '', '', '', '', '', '', '', '', '', '', '', '', '', '', '', '', '', '', '', '', '', '', '', '', '', '', '', '', '', '', '', '', '', '', '', '', '', '', '', '', '', '', '', '', '', '', '', '', '', '', '', '', '', '', '', '', '', '', '', '', '', '', '', '', '', '']\n",
      "Sentences: ['Alžir, kao druga po veličini zemlja u Africi, ima bogatu istoriju koja se proteže od drevnih vremena, kada su se njome kretali nomadi, sve do modernog doba, kada je postao važan igrač u globalnoj trgovini naftom.', 'Alžir, koji se prostire duž obale Sredozemnog mora, važi za jedan od najstarijih gradova u Severnoj Africi, poznat po svojim belim zgradama i živopisnim bazarima.', 'Ekonomija Alžira se oslanja na bogate rezerve nafte i gasa, što čini ovu severnoafričku zemlju jednim od ključnih izvoznika energije na svetskom tržištu.', 'Stari delovi Alžira, sa uskim ulicama i tradicionalnim kućama, pružaju uvid u bogatu istoriju i kulturni život koji je oblikovao ovaj glavni grad vekovima.', 'Međunarodni stručnjaci pružaju pomoć Alžiru kako bi unapredili svoje obrazovne i zdravstvene sisteme, osiguravajući bolji standard života za stanovništvo cele zemlje.', 'Povodom kulturnog festivala, ambasadori iz različitih zemalja došli su u Alžir kako bi prisustvovali događajima koji prikazuju bogatu umetničku baštinu glavnog grada.', 'Kada je odlučio da se preseli u Alžir, bio je impresioniran raznolikošću pejzaža, od pustinja na jugu do bujnih šuma u severnim regionima ove velike afričke države.', 'Posetili smo Alžir prošlog leta i proveli sate istražujući drevne spomenike i muzeje koji pričaju priču o dugoj istoriji ovog glavnog grada.', 'Putujući kroz Alžir, istraživači su otkrili neverovatnu raznolikost etničkih grupa i tradicija koje oblikuju ovu severnoafričku državu.', 'Šetajući Alžirom, divili smo se njegovim širokim bulevarima i starim palatama koje krase ovaj istorijski grad.']\n"
     ]
    }
   ],
   "source": [
    "#show the first document text, taggs,lemmas and sentences\n",
    "if docs:\n",
    "    doc = docs[0]\n",
    "    print(f\"Text: {doc.text}\")\n",
    "    print(f\"Tokens: {[token.text for token in doc]}\")\n",
    "    print(f\"Lemmas: {[token.lemma_ for token in doc]}\")\n",
    "    print(f\"POS Tags: {[token.pos_ for token in doc]}\")\n",
    "    print(f\"Sentences: {[sent.text for sent in doc.sents]}\")"
   ]
  }
 ],
 "metadata": {
  "kernelspec": {
   "display_name": "spacy",
   "language": "python",
   "name": "python3"
  },
  "language_info": {
   "codemirror_mode": {
    "name": "ipython",
    "version": 3
   },
   "file_extension": ".py",
   "mimetype": "text/x-python",
   "name": "python",
   "nbconvert_exporter": "python",
   "pygments_lexer": "ipython3",
   "version": "3.11.6"
  }
 },
 "nbformat": 4,
 "nbformat_minor": 5
}
