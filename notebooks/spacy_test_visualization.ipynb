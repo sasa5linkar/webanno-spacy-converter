{
 "cells": [
  {
   "cell_type": "markdown",
   "id": "02ed8ed4",
   "metadata": {},
   "source": [
    "# Import Required Libraries\n",
    "This section imports the necessary libraries for working with SpaCy, visualization, and the test data conversion utilities."
   ]
  },
  {
   "cell_type": "code",
   "execution_count": 1,
   "id": "8ecb9d82",
   "metadata": {},
   "outputs": [],
   "source": [
    "import spacy\n",
    "from spacy.tokens import DocBin\n",
    "from spacy import displacy\n",
    "import pandas as pd\n",
    "import os\n",
    "from pathlib import Path\n",
    "\n",
    "# If your converter is in the module, import it as well\n",
    "from webanno_spacy_converter.converters.webanno_to_spacy import AnnotationSentencesToDocBinConverterV2"
   ]
  },
  {
   "cell_type": "markdown",
   "id": "1e7b916f",
   "metadata": {},
   "source": [
    "# Load Test Data\n",
    "Load a .spacy file generated from your test data. This file contains serialized SpaCy Doc objects."
   ]
  },
  {
   "cell_type": "code",
   "execution_count": null,
   "id": "a215dbe5",
   "metadata": {},
   "outputs": [
    {
     "ename": "OSError",
     "evalue": "[E052] Can't find model directory: ..\\my_nlp_el_cnn1",
     "output_type": "error",
     "traceback": [
      "\u001b[1;31m---------------------------------------------------------------------------\u001b[0m",
      "\u001b[1;31mOSError\u001b[0m                                   Traceback (most recent call last)",
      "Cell \u001b[1;32mIn[3], line 5\u001b[0m\n\u001b[0;32m      2\u001b[0m docbin_path \u001b[38;5;241m=\u001b[39m Path(\u001b[38;5;124m\"\u001b[39m\u001b[38;5;124m..\u001b[39m\u001b[38;5;124m\"\u001b[39m) \u001b[38;5;241m/\u001b[39m \u001b[38;5;124m\"\u001b[39m\u001b[38;5;124mtest_data\u001b[39m\u001b[38;5;124m\"\u001b[39m \u001b[38;5;241m/\u001b[39m \u001b[38;5;124m\"\u001b[39m\u001b[38;5;124mexamplev2.spacy\u001b[39m\u001b[38;5;124m\"\u001b[39m\n\u001b[0;32m      4\u001b[0m \u001b[38;5;66;03m# Load the DocBin\u001b[39;00m\n\u001b[1;32m----> 5\u001b[0m nlp \u001b[38;5;241m=\u001b[39m \u001b[43mspacy\u001b[49m\u001b[38;5;241;43m.\u001b[39;49m\u001b[43mload\u001b[49m\u001b[43m(\u001b[49m\u001b[43mPath\u001b[49m\u001b[43m(\u001b[49m\u001b[38;5;124;43m\"\u001b[39;49m\u001b[38;5;124;43m..\u001b[39;49m\u001b[38;5;124;43m\"\u001b[39;49m\u001b[43m)\u001b[49m\u001b[43m \u001b[49m\u001b[38;5;241;43m/\u001b[39;49m\u001b[38;5;124;43m\"\u001b[39;49m\u001b[38;5;124;43mmy_nlp_el_cnn1\u001b[39;49m\u001b[38;5;124;43m\"\u001b[39;49m\u001b[43m)\u001b[49m  \n\u001b[0;32m      6\u001b[0m doc_bin \u001b[38;5;241m=\u001b[39m DocBin()\u001b[38;5;241m.\u001b[39mfrom_disk(\u001b[38;5;28mstr\u001b[39m(docbin_path))\n\u001b[0;32m      7\u001b[0m docs \u001b[38;5;241m=\u001b[39m \u001b[38;5;28mlist\u001b[39m(doc_bin\u001b[38;5;241m.\u001b[39mget_docs(nlp\u001b[38;5;241m.\u001b[39mvocab))\n",
      "File \u001b[1;32mc:\\Users\\sasa5\\anaconda3\\envs\\spacy\\Lib\\site-packages\\spacy\\__init__.py:51\u001b[0m, in \u001b[0;36mload\u001b[1;34m(name, vocab, disable, enable, exclude, config)\u001b[0m\n\u001b[0;32m     27\u001b[0m \u001b[38;5;28;01mdef\u001b[39;00m \u001b[38;5;21mload\u001b[39m(\n\u001b[0;32m     28\u001b[0m     name: Union[\u001b[38;5;28mstr\u001b[39m, Path],\n\u001b[0;32m     29\u001b[0m     \u001b[38;5;241m*\u001b[39m,\n\u001b[1;32m   (...)\u001b[0m\n\u001b[0;32m     34\u001b[0m     config: Union[Dict[\u001b[38;5;28mstr\u001b[39m, Any], Config] \u001b[38;5;241m=\u001b[39m util\u001b[38;5;241m.\u001b[39mSimpleFrozenDict(),\n\u001b[0;32m     35\u001b[0m ) \u001b[38;5;241m-\u001b[39m\u001b[38;5;241m>\u001b[39m Language:\n\u001b[0;32m     36\u001b[0m \u001b[38;5;250m    \u001b[39m\u001b[38;5;124;03m\"\"\"Load a spaCy model from an installed package or a local path.\u001b[39;00m\n\u001b[0;32m     37\u001b[0m \n\u001b[0;32m     38\u001b[0m \u001b[38;5;124;03m    name (str): Package name or model path.\u001b[39;00m\n\u001b[1;32m   (...)\u001b[0m\n\u001b[0;32m     49\u001b[0m \u001b[38;5;124;03m    RETURNS (Language): The loaded nlp object.\u001b[39;00m\n\u001b[0;32m     50\u001b[0m \u001b[38;5;124;03m    \"\"\"\u001b[39;00m\n\u001b[1;32m---> 51\u001b[0m     \u001b[38;5;28;01mreturn\u001b[39;00m \u001b[43mutil\u001b[49m\u001b[38;5;241;43m.\u001b[39;49m\u001b[43mload_model\u001b[49m\u001b[43m(\u001b[49m\n\u001b[0;32m     52\u001b[0m \u001b[43m        \u001b[49m\u001b[43mname\u001b[49m\u001b[43m,\u001b[49m\n\u001b[0;32m     53\u001b[0m \u001b[43m        \u001b[49m\u001b[43mvocab\u001b[49m\u001b[38;5;241;43m=\u001b[39;49m\u001b[43mvocab\u001b[49m\u001b[43m,\u001b[49m\n\u001b[0;32m     54\u001b[0m \u001b[43m        \u001b[49m\u001b[43mdisable\u001b[49m\u001b[38;5;241;43m=\u001b[39;49m\u001b[43mdisable\u001b[49m\u001b[43m,\u001b[49m\n\u001b[0;32m     55\u001b[0m \u001b[43m        \u001b[49m\u001b[43menable\u001b[49m\u001b[38;5;241;43m=\u001b[39;49m\u001b[43menable\u001b[49m\u001b[43m,\u001b[49m\n\u001b[0;32m     56\u001b[0m \u001b[43m        \u001b[49m\u001b[43mexclude\u001b[49m\u001b[38;5;241;43m=\u001b[39;49m\u001b[43mexclude\u001b[49m\u001b[43m,\u001b[49m\n\u001b[0;32m     57\u001b[0m \u001b[43m        \u001b[49m\u001b[43mconfig\u001b[49m\u001b[38;5;241;43m=\u001b[39;49m\u001b[43mconfig\u001b[49m\u001b[43m,\u001b[49m\n\u001b[0;32m     58\u001b[0m \u001b[43m    \u001b[49m\u001b[43m)\u001b[49m\n",
      "File \u001b[1;32mc:\\Users\\sasa5\\anaconda3\\envs\\spacy\\Lib\\site-packages\\spacy\\util.py:469\u001b[0m, in \u001b[0;36mload_model\u001b[1;34m(name, vocab, disable, enable, exclude, config)\u001b[0m\n\u001b[0;32m    467\u001b[0m         \u001b[38;5;28;01mreturn\u001b[39;00m load_model_from_path(Path(name), \u001b[38;5;241m*\u001b[39m\u001b[38;5;241m*\u001b[39mkwargs)  \u001b[38;5;66;03m# type: ignore[arg-type]\u001b[39;00m\n\u001b[0;32m    468\u001b[0m \u001b[38;5;28;01melif\u001b[39;00m \u001b[38;5;28mhasattr\u001b[39m(name, \u001b[38;5;124m\"\u001b[39m\u001b[38;5;124mexists\u001b[39m\u001b[38;5;124m\"\u001b[39m):  \u001b[38;5;66;03m# Path or Path-like to model data\u001b[39;00m\n\u001b[1;32m--> 469\u001b[0m     \u001b[38;5;28;01mreturn\u001b[39;00m \u001b[43mload_model_from_path\u001b[49m\u001b[43m(\u001b[49m\u001b[43mname\u001b[49m\u001b[43m,\u001b[49m\u001b[43m \u001b[49m\u001b[38;5;241;43m*\u001b[39;49m\u001b[38;5;241;43m*\u001b[39;49m\u001b[43mkwargs\u001b[49m\u001b[43m)\u001b[49m  \u001b[38;5;66;03m# type: ignore[arg-type]\u001b[39;00m\n\u001b[0;32m    470\u001b[0m \u001b[38;5;28;01mif\u001b[39;00m name \u001b[38;5;129;01min\u001b[39;00m OLD_MODEL_SHORTCUTS:\n\u001b[0;32m    471\u001b[0m     \u001b[38;5;28;01mraise\u001b[39;00m \u001b[38;5;167;01mIOError\u001b[39;00m(Errors\u001b[38;5;241m.\u001b[39mE941\u001b[38;5;241m.\u001b[39mformat(name\u001b[38;5;241m=\u001b[39mname, full\u001b[38;5;241m=\u001b[39mOLD_MODEL_SHORTCUTS[name]))  \u001b[38;5;66;03m# type: ignore[index]\u001b[39;00m\n",
      "File \u001b[1;32mc:\\Users\\sasa5\\anaconda3\\envs\\spacy\\Lib\\site-packages\\spacy\\util.py:533\u001b[0m, in \u001b[0;36mload_model_from_path\u001b[1;34m(model_path, meta, vocab, disable, enable, exclude, config)\u001b[0m\n\u001b[0;32m    514\u001b[0m \u001b[38;5;250m\u001b[39m\u001b[38;5;124;03m\"\"\"Load a model from a data directory path. Creates Language class with\u001b[39;00m\n\u001b[0;32m    515\u001b[0m \u001b[38;5;124;03mpipeline from config.cfg and then calls from_disk() with path.\u001b[39;00m\n\u001b[0;32m    516\u001b[0m \n\u001b[1;32m   (...)\u001b[0m\n\u001b[0;32m    530\u001b[0m \u001b[38;5;124;03mRETURNS (Language): The loaded nlp object.\u001b[39;00m\n\u001b[0;32m    531\u001b[0m \u001b[38;5;124;03m\"\"\"\u001b[39;00m\n\u001b[0;32m    532\u001b[0m \u001b[38;5;28;01mif\u001b[39;00m \u001b[38;5;129;01mnot\u001b[39;00m model_path\u001b[38;5;241m.\u001b[39mexists():\n\u001b[1;32m--> 533\u001b[0m     \u001b[38;5;28;01mraise\u001b[39;00m \u001b[38;5;167;01mIOError\u001b[39;00m(Errors\u001b[38;5;241m.\u001b[39mE052\u001b[38;5;241m.\u001b[39mformat(path\u001b[38;5;241m=\u001b[39mmodel_path))\n\u001b[0;32m    534\u001b[0m \u001b[38;5;28;01mif\u001b[39;00m \u001b[38;5;129;01mnot\u001b[39;00m meta:\n\u001b[0;32m    535\u001b[0m     meta \u001b[38;5;241m=\u001b[39m get_model_meta(model_path)\n",
      "\u001b[1;31mOSError\u001b[0m: [E052] Can't find model directory: ..\\my_nlp_el_cnn1"
     ]
    }
   ],
   "source": [
    "# Path to the test .spacy file (adjust as needed)\n",
    "docbin_path = Path() / \"test_data\" / \"examplev2.spacy\"\n",
    "\n",
    "# Load the DocBin\n",
    "nlp = spacy.load(\"my_nlp_el_cnn1\")  \n",
    "doc_bin = DocBin().from_disk(str(docbin_path))\n",
    "docs = list(doc_bin.get_docs(nlp.vocab))\n",
    "print(f\"Loaded {len(docs)} SpaCy Doc objects from {docbin_path}\")"
   ]
  },
  {
   "cell_type": "markdown",
   "id": "5f9972de",
   "metadata": {},
   "source": [
    "# Convert Test Data to SpaCy Docs\n",
    "If you have annotated sentences and want to convert them to SpaCy Docs, use the converter here. (This is optional if you already have a .spacy file.)"
   ]
  },
  {
   "cell_type": "code",
   "execution_count": null,
   "id": "d84aea44",
   "metadata": {},
   "outputs": [],
   "source": [
    "# Example (uncomment and adjust if you want to run conversion):\n",
    "# from webanno_spacy_converter.parsers.tsv_parser_v3 import WebAnnoNELParser\n",
    "# parser = WebAnnoNELParser(\"../test_data/output.tsv\")\n",
    "# parser.parse()\n",
    "# converter = AnnotationSentencesToDocBinConverterV2(nlp)\n",
    "# doc_bin = converter.convert(parser.sentences)\n",
    "# docs = list(doc_bin.get_docs(nlp.vocab))"
   ]
  },
  {
   "cell_type": "markdown",
   "id": "f6caa7be",
   "metadata": {},
   "source": [
    "# Visualize SpaCy Docs\n",
    "Use SpaCy's displacy to visualize named entities and dependency parses for the loaded documents."
   ]
  },
  {
   "cell_type": "code",
   "execution_count": null,
   "id": "ba842610",
   "metadata": {},
   "outputs": [],
   "source": [
    "# Visualize named entities in the first document (if any)\n",
    "if docs and docs[0].ents:\n",
    "    displacy.render(docs[0], style=\"ent\", jupyter=True)\n",
    "else:\n",
    "    print(\"No named entities found in the first document.\")"
   ]
  },
  {
   "cell_type": "markdown",
   "id": "ff5cfb00",
   "metadata": {},
   "source": [
    "# Inspect Named Entities\n",
    "Programmatically inspect the named entities, their labels, and any linked knowledge base IDs in the SpaCy Docs."
   ]
  },
  {
   "cell_type": "code",
   "execution_count": null,
   "id": "f93b7b67",
   "metadata": {},
   "outputs": [],
   "source": [
    "# Collect entity details from the first document\n",
    "if docs:\n",
    "    ents_data = [\n",
    "        {\n",
    "            \"Text\": ent.text,\n",
    "            \"Label\": ent.label_,\n",
    "            \"KB_ID\": getattr(ent, \"kb_id_\", None)\n",
    "        }\n",
    "        for ent in docs[0].ents\n",
    "    ]\n",
    "    if ents_data:\n",
    "        df = pd.DataFrame(ents_data)\n",
    "        display(df)\n",
    "    else:\n",
    "        print(\"No entities found in the first document.\")\n",
    "else:\n",
    "    print(\"No documents loaded.\")"
   ]
  }
 ],
 "metadata": {
  "kernelspec": {
   "display_name": "spacy",
   "language": "python",
   "name": "python3"
  },
  "language_info": {
   "codemirror_mode": {
    "name": "ipython",
    "version": 3
   },
   "file_extension": ".py",
   "mimetype": "text/x-python",
   "name": "python",
   "nbconvert_exporter": "python",
   "pygments_lexer": "ipython3",
   "version": "3.11.6"
  }
 },
 "nbformat": 4,
 "nbformat_minor": 5
}
